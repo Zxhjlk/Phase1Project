{
 "cells": [
  {
   "cell_type": "markdown",
   "metadata": {},
   "source": [
    "We loaded the data while specifying the encoding since it produced an error"
   ]
  },
  {
   "cell_type": "code",
   "execution_count": 158,
   "metadata": {},
   "outputs": [
    {
     "name": "stdout",
     "output_type": "stream",
     "text": [
      "<class 'pandas.core.frame.DataFrame'>\n",
      "RangeIndex: 88889 entries, 0 to 88888\n",
      "Data columns (total 31 columns):\n",
      " #   Column                  Non-Null Count  Dtype  \n",
      "---  ------                  --------------  -----  \n",
      " 0   Event.Id                88889 non-null  object \n",
      " 1   Investigation.Type      88889 non-null  object \n",
      " 2   Accident.Number         88889 non-null  object \n",
      " 3   Event.Date              88889 non-null  object \n",
      " 4   Location                88837 non-null  object \n",
      " 5   Country                 88663 non-null  object \n",
      " 6   Latitude                34382 non-null  object \n",
      " 7   Longitude               34373 non-null  object \n",
      " 8   Airport.Code            50249 non-null  object \n",
      " 9   Airport.Name            52790 non-null  object \n",
      " 10  Injury.Severity         87889 non-null  object \n",
      " 11  Aircraft.damage         85695 non-null  object \n",
      " 12  Aircraft.Category       32287 non-null  object \n",
      " 13  Registration.Number     87572 non-null  object \n",
      " 14  Make                    88826 non-null  object \n",
      " 15  Model                   88797 non-null  object \n",
      " 16  Amateur.Built           88787 non-null  object \n",
      " 17  Number.of.Engines       82805 non-null  float64\n",
      " 18  Engine.Type             81812 non-null  object \n",
      " 19  FAR.Description         32023 non-null  object \n",
      " 20  Schedule                12582 non-null  object \n",
      " 21  Purpose.of.flight       82697 non-null  object \n",
      " 22  Air.carrier             16648 non-null  object \n",
      " 23  Total.Fatal.Injuries    77488 non-null  float64\n",
      " 24  Total.Serious.Injuries  76379 non-null  float64\n",
      " 25  Total.Minor.Injuries    76956 non-null  float64\n",
      " 26  Total.Uninjured         82977 non-null  float64\n",
      " 27  Weather.Condition       84397 non-null  object \n",
      " 28  Broad.phase.of.flight   61724 non-null  object \n",
      " 29  Report.Status           82508 non-null  object \n",
      " 30  Publication.Date        75118 non-null  object \n",
      "dtypes: float64(5), object(26)\n",
      "memory usage: 21.0+ MB\n"
     ]
    }
   ],
   "source": [
    "import pandas as pd\n",
    "import numpy as np\n",
    "\n",
    "df = pd.read_csv(\"./Data/AviationData.csv\", encoding='ISO-8859-1')\n",
    "df.info()"
   ]
  },
  {
   "cell_type": "markdown",
   "metadata": {},
   "source": [
    "## Columns to remove\n",
    "\n",
    "We decided on deleting columns that don't hold much significance in determining which aircraft are safe to invest in.\n",
    "The ones we decided on initially are:  \n",
    "Airport.Code  \n",
    "Airport.Name  \n",
    "Latitude   \n",
    "Longitude\n",
    "Total.Minor.Injuries  \n",
    "Total.Uninjured    \n",
    "Publication.Date    \n",
    "Total.Fatal.Injuries  \n",
    "Schedule  \n",
    "Broad.phase.of.flight\n",
    "Accident.Number  \n",
    "Event.Id  \n",
    "FAR.Description  \n",
    "Registration.Number\t \n",
    "Report.Status  \n"
   ]
  },
  {
   "cell_type": "code",
   "execution_count": 159,
   "metadata": {},
   "outputs": [],
   "source": [
    "columns_to_drop = ['Airport.Code',  \n",
    "'Airport.Name',  \n",
    "'Latitude',   \n",
    "'Longitude',  \n",
    "'Total.Minor.Injuries',\n",
    "'Total.Uninjured',\n",
    "'Publication.Date', \n",
    "'Broad.phase.of.flight',\n",
    "'Total.Fatal.Injuries',\n",
    "'Schedule',  \n",
    "'FAR.Description',  \n",
    "'Registration.Number',\n",
    "'Accident.Number',\n",
    "'Event.Id',\n",
    "'Report.Status']\n",
    "df = df\n",
    "\n",
    "df.drop(columns = columns_to_drop, inplace=True)"
   ]
  },
  {
   "cell_type": "markdown",
   "metadata": {},
   "source": [
    "## Reformatting text\n",
    "\n",
    "We found that some columns have text with differing punctuation or capitalization, causing them to be recognized as separate entries. \n",
    "\n",
    "For example, in the 'Make' category, Cessna and CESSNA are considered different categories.   \n",
    "In order to fix this, we will go through and strip leading and trailing whitespace and make them similar case.  \n",
    "\n",
    "Another column we did this to was the model column"
   ]
  },
  {
   "cell_type": "code",
   "execution_count": 160,
   "metadata": {},
   "outputs": [],
   "source": [
    "#Format Make column, some vals are floats so cast to string first\n",
    "df['Make'] = df['Make'].map(lambda make: str(make).strip().title())\n",
    "\n",
    "#Format model column\n",
    "df['Model'] = df['Model'].map(lambda model: str(model).strip().title() if pd.notnull(model) else model)"
   ]
  },
  {
   "cell_type": "markdown",
   "metadata": {},
   "source": [
    "Another change we are making is to separate the Location column into two separate columns, since the capitalization is not consistent and having the state abbreviation on its own will make it easier to access"
   ]
  },
  {
   "cell_type": "code",
   "execution_count": 161,
   "metadata": {},
   "outputs": [],
   "source": [
    "#Format Weather Conditions so that all unknown vals are just changed to nan\n",
    "#df['Weather.Condition'] = df['Weather.Condition'].map(lambda weather: str(weather).upper() if pd.notnull(weather) else weather)\n",
    "df['Weather.Condition'] = df['Weather.Condition'].replace({'Unk': np.NaN, 'UNK': np.NaN})"
   ]
  },
  {
   "cell_type": "markdown",
   "metadata": {},
   "source": [
    "We decided that splitting the location column into two separate columns would make comparing rows easier, so the locations where split on the comma and separated"
   ]
  },
  {
   "cell_type": "code",
   "execution_count": 162,
   "metadata": {},
   "outputs": [],
   "source": [
    "#Split Location into two columns and drop the original, then strip and case the new columns\n",
    "df[['City', 'State']] = df['Location'].str.split(',', n=1, expand=True)\n",
    "df.drop(columns = ['Location'], inplace=True)\n",
    "df['City'] = df['City'].map(lambda city: str(city).strip().title() if pd.notnull(city) else city)\n",
    "df['State'] = df['State'].map(lambda state: str(state).strip().upper() if pd.notnull(state) else state)"
   ]
  },
  {
   "cell_type": "markdown",
   "metadata": {},
   "source": [
    "The injury severity column had a more drastic change to it. While inspecting the column, we noticed that the Injury.Severity column somewhat combined the Total.Fatal.Injuries and the Total.Serious.Injuries. If the Total.Fatal.Injuries column was non zero, then Injury.Severity would reflect that with Fatal(#) where # would hold an int. If not, then Injury.Severity would have some text describing it, such as 'Minor' or 'Non-Fatal'. Because of that, we decided to remove the Fatal text and instead just keep the number since it would be easier to check if the column was an int."
   ]
  },
  {
   "cell_type": "code",
   "execution_count": 163,
   "metadata": {},
   "outputs": [],
   "source": [
    "#Format Injury Severity where Fatal is removed so that only the integer exists\n",
    "df['Injury.Severity'] = df['Injury.Severity'].map(lambda injured:''.join(x for x in str(injured) if x.isdigit()) if (any(i.isdigit() for i in str(injured)) & pd.notnull(injured)) else injured)"
   ]
  },
  {
   "cell_type": "markdown",
   "metadata": {},
   "source": [
    "## Dropping Rows\n",
    "\n",
    "If we look at the Aircraft.Category column, we see that there are a bunch of aircraft that aren't even aircraft. We decided to not keep these and drop everthing that isn't either an airplane or helicopter"
   ]
  },
  {
   "cell_type": "code",
   "execution_count": 164,
   "metadata": {},
   "outputs": [
    {
     "data": {
      "text/plain": [
       "Airplane             27617\n",
       "Helicopter            3440\n",
       "Glider                 508\n",
       "Balloon                231\n",
       "Gyrocraft              173\n",
       "Weight-Shift           161\n",
       "Powered Parachute       91\n",
       "Ultralight              30\n",
       "Unknown                 14\n",
       "WSFT                     9\n",
       "Powered-Lift             5\n",
       "Blimp                    4\n",
       "UNK                      2\n",
       "ULTR                     1\n",
       "Rocket                   1\n",
       "Name: Aircraft.Category, dtype: int64"
      ]
     },
     "execution_count": 164,
     "metadata": {},
     "output_type": "execute_result"
    }
   ],
   "source": [
    "df['Aircraft.Category'].value_counts()"
   ]
  },
  {
   "cell_type": "code",
   "execution_count": 165,
   "metadata": {},
   "outputs": [],
   "source": [
    "#Drop everything that isn't an airplane or helicopter or if null\n",
    "df = df[(df['Aircraft.Category'] == 'Airplane') | (df['Aircraft.Category'] == 'Helicopter') | (df['Aircraft.Category'].isnull())]\n"
   ]
  },
  {
   "cell_type": "markdown",
   "metadata": {},
   "source": [
    "## Cleaned dataset\n",
    "\n",
    "Here we can see now that there are many less columns and the column entries have been formated to make calculations easier. Then we can write to another csv for easy access."
   ]
  },
  {
   "cell_type": "code",
   "execution_count": 166,
   "metadata": {},
   "outputs": [],
   "source": [
    "df.to_csv('./Data/CleanedAviationData.csv', encoding='utf-8')"
   ]
  }
 ],
 "metadata": {
  "kernelspec": {
   "display_name": "Python (learn-env)",
   "language": "python",
   "name": "learn-env"
  },
  "language_info": {
   "codemirror_mode": {
    "name": "ipython",
    "version": 3
   },
   "file_extension": ".py",
   "mimetype": "text/x-python",
   "name": "python",
   "nbconvert_exporter": "python",
   "pygments_lexer": "ipython3",
   "version": "3.8.5"
  }
 },
 "nbformat": 4,
 "nbformat_minor": 2
}
